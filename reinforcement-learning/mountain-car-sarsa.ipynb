{
 "cells": [
  {
   "cell_type": "code",
   "execution_count": 2,
   "metadata": {},
   "outputs": [],
   "source": [
    "import gym\n",
    "env = gym.make('MountainCar-v0', render_mode = 'rgb_array')"
   ]
  },
  {
   "cell_type": "code",
   "execution_count": 4,
   "metadata": {},
   "outputs": [
    {
     "data": {
      "text/plain": [
       "<matplotlib.image.AxesImage at 0x1111c9fa0>"
      ]
     },
     "execution_count": 4,
     "metadata": {},
     "output_type": "execute_result"
    },
    {
     "data": {
      "image/png": "[encoded data removed]",
      "text/plain": [
       "<Figure size 576x432 with 1 Axes>"
      ]
     },
     "metadata": {
      "needs_background": "light"
     },
     "output_type": "display_data"
    }
   ],
   "source": [
    "import matplotlib.pyplot as plt\n",
    "\n",
    "env.reset()\n",
    "frame = env.render()\n",
    "\n",
    "fig, ax = plt.subplots(figsize=(8, 6))\n",
    "ax.axes.yaxis.set_visible(False)\n",
    "ax.imshow(frame, extent=[env.min_position, env.max_position, 0, 1])"
   ]
  },
  {
   "cell_type": "code",
   "execution_count": 5,
   "metadata": {},
   "outputs": [
    {
     "name": "stdout",
     "output_type": "stream",
     "text": [
      "Action Space Discrete(3)\n"
     ]
    }
   ],
   "source": [
    "# Action space\n",
    "# 0 Accelerate to the left\n",
    "# 1 Don't accelerate\n",
    "# 2 Accelerate to the right\n",
    "\n",
    "print(\"Action Space {}\".format(env.action_space))"
   ]
  },
  {
   "cell_type": "code",
   "execution_count": 6,
   "metadata": {},
   "outputs": [
    {
     "name": "stdout",
     "output_type": "stream",
     "text": [
      "State Space Box([-1.2  -0.07], [0.6  0.07], (2,), float32)\n",
      "Position ranges from -1.2 to 0.6\n",
      "Velocity ranges from -0.07 to 0.07\n"
     ]
    }
   ],
   "source": [
    "# The state consists of 2 numbers:\n",
    "# - Car's position, from -1.2 to 0.6\n",
    "# - Car's velocity, from -0.07 to 0.07\n",
    "print(\"State Space {}\".format(env.observation_space))\n",
    "\n",
    "print(f'Position ranges from {env.min_position} to {env.max_position}')\n",
    "print(f'Velocity ranges from {-env.max_speed} to {env.max_speed}')"
   ]
  },
  {
   "cell_type": "code",
   "execution_count": 7,
   "metadata": {},
   "outputs": [],
   "source": [
    "import numpy as np\n",
    "import random\n",
    "\n",
    "class SarsaAgent:\n",
    "\n",
    "    def __init__(self, env, learning_rate, discount_factor):\n",
    "\n",
    "        self.env = env\n",
    "        self.q_table = self._init_q_table()\n",
    "\n",
    "        # hyper-parameters\n",
    "        self.learning_rate = learning_rate\n",
    "        self.discount_factor = discount_factor\n",
    "\n",
    "    def _init_q_table(self) -> np.array:\n",
    "        \"\"\"\n",
    "        Return numpy array with 3 dimensions.\n",
    "        The first 2 dimensions are the state components, i.e. position, speed.\n",
    "        The third dimension is the action.\n",
    "        \"\"\"\n",
    "        # discretize state space from a continuous to discrete\n",
    "        high = self.env.observation_space.high\n",
    "        low = self.env.observation_space.low\n",
    "        n_states = (high - low) * np.array([10, 100])\n",
    "        n_states = np.round(n_states, 0).astype(int) + 1\n",
    "\n",
    "        # table with q-values: n_states[0] * n_states[1] * n_actions\n",
    "        return np.zeros([n_states[0], n_states[1], self.env.action_space.n])\n",
    "\n",
    "    def _discretize_state(self, state):\n",
    "        min_states = self.env.observation_space.low\n",
    "        state_discrete = (state - min_states) * np.array([10, 100])\n",
    "        return np.round(state_discrete, 0).astype(int)\n",
    "\n",
    "    def get_action(self, state, epsilon=None):\n",
    "        \"\"\"\n",
    "            As Sarsa learns from the action to be taken \n",
    "            in the next state to which the agent passes \n",
    "            with the selected action, the stochastic process \n",
    "            of exploration and exploitation is found in \n",
    "            this function. \n",
    "        \"\"\"\n",
    "        if epsilon and random.uniform(0, 1) < epsilon:\n",
    "            # Explore action space\n",
    "            action = self.env.action_space.sample()\n",
    "        else:\n",
    "            # Exploit learned values\n",
    "            state_discrete = self._discretize_state(state)\n",
    "            action = np.argmax(self.q_table[state_discrete[0], state_discrete[1]])\n",
    "        \n",
    "        return action\n",
    "\n",
    "    def update_parameters(self, state, action, reward, next_state, epsilon):\n",
    "        \"\"\"\n",
    "        Sarsa takes the agent's policy into account in its learning process. \n",
    "        Unlike Q-learning, which relies on previous experience in a greedy way, \n",
    "        Sarsa takes into account the agent's next decision, which is determined \n",
    "        by the agent's policy.\n",
    "        \"\"\"\n",
    "        s = self._discretize_state(state)\n",
    "        ns = self._discretize_state(next_state)\n",
    "        na = self.get_action(next_state, epsilon)\n",
    "\n",
    "        current_action = self.q_table[s[0], s[1], action]\n",
    "        next_action = self.q_table[ns[0], ns[1], na]\n",
    "        delta = self.learning_rate * (reward + self.discount_factor * next_action - current_action)\n",
    "\n",
    "        self.q_table[s[0], s[1], action] += delta"
   ]
  },
  {
   "cell_type": "code",
   "execution_count": null,
   "metadata": {},
   "outputs": [],
   "source": []
  }
 ],
 "metadata": {
  "kernelspec": {
   "display_name": "ia-DgOaNB3O",
   "language": "python",
   "name": "python3"
  },
  "language_info": {
   "codemirror_mode": {
    "name": "ipython",
    "version": 3
   },
   "file_extension": ".py",
   "mimetype": "text/x-python",
   "name": "python",
   "nbconvert_exporter": "python",
   "pygments_lexer": "ipython3",
   "version": "3.9.15 (main, Oct 11 2022, 21:39:54) \n[Clang 14.0.0 (clang-1400.0.29.102)]"
  },
  "orig_nbformat": 4,
  "vscode": {
   "interpreter": {
    "hash": "cf5578e0a92816dc88e84836f05d2168ecb2527a54bcf4e63035c8341d7402dc"
   }
  }
 },
 "nbformat": 4,
 "nbformat_minor": 2
}
